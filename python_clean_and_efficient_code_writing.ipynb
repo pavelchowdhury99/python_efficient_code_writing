{
 "cells": [
  {
   "cell_type": "markdown",
   "metadata": {},
   "source": [
    "# Top 7 best practices for writing clean and efficient code in Python"
   ]
  },
  {
   "cell_type": "code",
   "execution_count": 1,
   "metadata": {},
   "outputs": [
    {
     "name": "stdout",
     "output_type": "stream",
     "text": [
      "The Zen of Python, by Tim Peters\n",
      "\n",
      "Beautiful is better than ugly.\n",
      "Explicit is better than implicit.\n",
      "Simple is better than complex.\n",
      "Complex is better than complicated.\n",
      "Flat is better than nested.\n",
      "Sparse is better than dense.\n",
      "Readability counts.\n",
      "Special cases aren't special enough to break the rules.\n",
      "Although practicality beats purity.\n",
      "Errors should never pass silently.\n",
      "Unless explicitly silenced.\n",
      "In the face of ambiguity, refuse the temptation to guess.\n",
      "There should be one-- and preferably only one --obvious way to do it.\n",
      "Although that way may not be obvious at first unless you're Dutch.\n",
      "Now is better than never.\n",
      "Although never is often better than *right* now.\n",
      "If the implementation is hard to explain, it's a bad idea.\n",
      "If the implementation is easy to explain, it may be a good idea.\n",
      "Namespaces are one honking great idea -- let's do more of those!\n"
     ]
    }
   ],
   "source": [
    "import this"
   ]
  },
  {
   "attachments": {},
   "cell_type": "markdown",
   "metadata": {},
   "source": [
    "### 1. Use PEP 8 Styling Standards<br>\n",
    "[Reference](https://peps.python.org/pep-0008/)"
   ]
  },
  {
   "attachments": {},
   "cell_type": "markdown",
   "metadata": {},
   "source": [
    "### 2. Use of Multiple lines for items in list, dictionaries and other containers"
   ]
  },
  {
   "attachments": {},
   "cell_type": "markdown",
   "metadata": {},
   "source": [
    "### 3. Use of context manager"
   ]
  },
  {
   "cell_type": "code",
   "execution_count": 2,
   "metadata": {},
   "outputs": [],
   "source": [
    "## Writing some text into a file\n",
    "\n",
    "# Traditional way\n",
    "\n",
    "file = open('example_3.txt','w')\n",
    "file.write('Test Text!')\n",
    "file.close()"
   ]
  },
  {
   "cell_type": "code",
   "execution_count": 3,
   "metadata": {},
   "outputs": [],
   "source": [
    "## Pythonic Way\n",
    "\n",
    "with open('example_3.txt','w') as file:\n",
    "    file.write('Test Text!')"
   ]
  },
  {
   "attachments": {},
   "cell_type": "markdown",
   "metadata": {},
   "source": [
    "### 4. Use f strings to format"
   ]
  },
  {
   "cell_type": "code",
   "execution_count": 4,
   "metadata": {},
   "outputs": [
    {
     "name": "stdout",
     "output_type": "stream",
     "text": [
      "X = Value of X, 3\n",
      "harry.porter@hogwards.com\n"
     ]
    }
   ],
   "source": [
    "## Old way\n",
    "x = 'Value of X'\n",
    "y = 3\n",
    "print('X = {}, {}'.format(x,y))\n",
    "\n",
    "## New Way \n",
    "name = 'Harry'\n",
    "last_name = 'Porter'\n",
    "email = (f'{name}.{last_name}@hogwards.com').lower()\n",
    "print(email)"
   ]
  },
  {
   "attachments": {},
   "cell_type": "markdown",
   "metadata": {},
   "source": [
    "#### 5. List, Dictionary, Set and Other DS Comprehension"
   ]
  },
  {
   "cell_type": "code",
   "execution_count": 5,
   "metadata": {},
   "outputs": [
    {
     "data": {
      "text/plain": [
       "[0, 1, 2, 3, 4, 5, 6, 7, 8, 9, 10]"
      ]
     },
     "execution_count": 5,
     "metadata": {},
     "output_type": "execute_result"
    }
   ],
   "source": [
    "# generate a list containing 0,10\n",
    "a = []\n",
    "for i in range(11):\n",
    "    a.append(i)\n",
    "a"
   ]
  },
  {
   "cell_type": "code",
   "execution_count": 13,
   "metadata": {},
   "outputs": [
    {
     "data": {
      "text/plain": [
       "[0, 2, 4, 6, 8, 10]"
      ]
     },
     "execution_count": 13,
     "metadata": {},
     "output_type": "execute_result"
    }
   ],
   "source": [
    "# using list comprehensions\n",
    "a = [i for i in range(0,11)]\n",
    "a = [i for i in range(0,11) if i%2==0]\n",
    "a"
   ]
  },
  {
   "cell_type": "code",
   "execution_count": 7,
   "metadata": {},
   "outputs": [
    {
     "name": "stdout",
     "output_type": "stream",
     "text": [
      "0 51\n",
      "1 50\n",
      "2 49\n",
      "3 48\n",
      "4 47\n",
      "5 46\n",
      "6 45\n",
      "7 44\n",
      "8 43\n",
      "9 42\n",
      "10 41\n"
     ]
    }
   ],
   "source": [
    "# use of enumerate to avoid counter\n",
    "for count, i in enumerate(range(51,40,-1)):\n",
    "    print(count,i)"
   ]
  },
  {
   "cell_type": "code",
   "execution_count": 8,
   "metadata": {},
   "outputs": [
    {
     "data": {
      "text/plain": [
       "{0: 51, 1: 49, 2: 47, 3: 45, 4: 43, 5: 41}"
      ]
     },
     "execution_count": 8,
     "metadata": {},
     "output_type": "execute_result"
    }
   ],
   "source": [
    "# dictionary comprehension\n",
    "a = {key:value for key,value in enumerate(range(51,40,-2))}\n",
    "a"
   ]
  },
  {
   "attachments": {},
   "cell_type": "markdown",
   "metadata": {},
   "source": [
    "### 5. Using Lambda Functions for Single Expression Functions\n"
   ]
  },
  {
   "cell_type": "code",
   "execution_count": 16,
   "metadata": {},
   "outputs": [
    {
     "data": {
      "text/plain": [
       "([2, 3, 1, 4, 0, 5, 6, 7, 8, 9, 10], [2, 3, 1, 4, 0, 5, 6, 7, 8, 9, 10])"
      ]
     },
     "execution_count": 16,
     "metadata": {},
     "output_type": "execute_result"
    }
   ],
   "source": [
    "def some_func(param):\n",
    "    return param**2 - param*5 + 10\n",
    "\n",
    "a = [i for i in range(0,11)]\n",
    "\n",
    "b = sorted(a,key=some_func)\n",
    "\n",
    "\n",
    "c = sorted(a,key=lambda x: x**2 - x*5 + 10)\n",
    "\n",
    "b,c\n"
   ]
  },
  {
   "attachments": {},
   "cell_type": "markdown",
   "metadata": {},
   "source": [
    "#### 6. map, filter, accumulate/reduce"
   ]
  },
  {
   "cell_type": "code",
   "execution_count": 17,
   "metadata": {},
   "outputs": [
    {
     "data": {
      "text/plain": [
       "[10, 6, 4, 4, 6, 10, 16, 24, 34, 46, 60]"
      ]
     },
     "execution_count": 17,
     "metadata": {},
     "output_type": "execute_result"
    }
   ],
   "source": [
    "## apply a function on all the elements of a list/dictionary/itereable\n",
    "\n",
    "# Traditional way\n",
    "\n",
    "def some_func(param):\n",
    "    return param**2 - param*5 + 10\n",
    "\n",
    "a = [i for i in range(0,11)]\n",
    "b = [some_func(i) for i in a]\n",
    "\n",
    "b"
   ]
  },
  {
   "cell_type": "code",
   "execution_count": 18,
   "metadata": {},
   "outputs": [
    {
     "data": {
      "text/plain": [
       "[10, 6, 4, 4, 6, 10, 16, 24, 34, 46, 60]"
      ]
     },
     "execution_count": 18,
     "metadata": {},
     "output_type": "execute_result"
    }
   ],
   "source": [
    "## Pythonic way\n",
    "\n",
    "b = list(map(some_func,a))\n",
    "\n",
    "b"
   ]
  },
  {
   "cell_type": "code",
   "execution_count": 22,
   "metadata": {},
   "outputs": [
    {
     "data": {
      "text/plain": [
       "[0, 21, 44, 69, 96, 125, 156, 189, 224, 261, 300]"
      ]
     },
     "execution_count": 22,
     "metadata": {},
     "output_type": "execute_result"
    }
   ],
   "source": [
    "a = [i for i in range(0,11)]\n",
    "b = [i for i in range(20,31)]\n",
    "\n",
    "c = list(map(lambda x,y : x*y, a, b))\n",
    "\n",
    "c"
   ]
  },
  {
   "cell_type": "code",
   "execution_count": 23,
   "metadata": {},
   "outputs": [
    {
     "data": {
      "text/plain": [
       "[3, 13, 23, 33, 43, 53, 63, 73, 83, 93]"
      ]
     },
     "execution_count": 23,
     "metadata": {},
     "output_type": "execute_result"
    }
   ],
   "source": [
    "## Filter\n",
    "\n",
    "a = [i for i in range(0,100)]\n",
    "\n",
    "b = list(filter(lambda x:str(x)[-1]=='3', a))\n",
    "\n",
    "b"
   ]
  },
  {
   "cell_type": "code",
   "execution_count": 31,
   "metadata": {},
   "outputs": [
    {
     "name": "stdout",
     "output_type": "stream",
     "text": [
      "[0, 1, 2, 3, 4, 5, 6, 7, 8, 9, 10]\n",
      "[0, 1, 3, 6, 10, 15, 21, 28, 36, 45, 55]\n",
      "65\n"
     ]
    }
   ],
   "source": [
    "## accumulate\n",
    "\n",
    "from itertools import accumulate\n",
    "from functools import reduce\n",
    "\n",
    "a = [i for i in range(0,11)]\n",
    "\n",
    "b = list(accumulate(a, lambda x,y : x+y))\n",
    "\n",
    "c = reduce(lambda x,y:x+y ,a,10)\n",
    "\n",
    "print(a)\n",
    "print(b)\n",
    "print(c)"
   ]
  },
  {
   "attachments": {},
   "cell_type": "markdown",
   "metadata": {},
   "source": [
    "### 7. Using Dictionary For if-esle-if ladder / switch"
   ]
  },
  {
   "cell_type": "code",
   "execution_count": 32,
   "metadata": {},
   "outputs": [
    {
     "name": "stdout",
     "output_type": "stream",
     "text": [
      "0-This is neither 1 nor 3\n",
      "1-This is 1\n",
      "2-This is neither 1 nor 3\n",
      "3-This is 3\n",
      "4-This is neither 1 nor 3\n",
      "5-This is neither 1 nor 3\n",
      "6-This is neither 1 nor 3\n",
      "7-This is neither 1 nor 3\n",
      "8-This is neither 1 nor 3\n",
      "9-This is neither 1 nor 3\n",
      "10-This is neither 1 nor 3\n"
     ]
    }
   ],
   "source": [
    "## traditional way\n",
    "\n",
    "a = [i for i in range(0,11)]\n",
    "\n",
    "for i in a:\n",
    "    if i==1:\n",
    "        print(f'{i}-This is 1')\n",
    "    elif i==3:\n",
    "        print(f'{i}-This is 3')\n",
    "    else:\n",
    "        print(f'{i}-This is neither 1 nor 3')\n"
   ]
  },
  {
   "cell_type": "code",
   "execution_count": 33,
   "metadata": {},
   "outputs": [
    {
     "name": "stdout",
     "output_type": "stream",
     "text": [
      "0-This is neither 1 nor 3\n",
      "1-This is 1\n",
      "2-This is neither 1 nor 3\n",
      "3-This is 3\n",
      "4-This is neither 1 nor 3\n",
      "5-This is neither 1 nor 3\n",
      "6-This is neither 1 nor 3\n",
      "7-This is neither 1 nor 3\n",
      "8-This is neither 1 nor 3\n",
      "9-This is neither 1 nor 3\n",
      "10-This is neither 1 nor 3\n"
     ]
    }
   ],
   "source": [
    "## traditional way\n",
    "\n",
    "a = [i for i in range(0,11)]\n",
    "\n",
    "cases = {1:'This is 1',3:'This is 3'}\n",
    "\n",
    "for i in a:\n",
    "    print(f\"{i}-{cases.get(i,'This is neither 1 nor 3')}\")"
   ]
  },
  {
   "cell_type": "code",
   "execution_count": null,
   "metadata": {},
   "outputs": [],
   "source": []
  }
 ],
 "metadata": {
  "kernelspec": {
   "display_name": "venv",
   "language": "python",
   "name": "python3"
  },
  "language_info": {
   "codemirror_mode": {
    "name": "ipython",
    "version": 3
   },
   "file_extension": ".py",
   "mimetype": "text/x-python",
   "name": "python",
   "nbconvert_exporter": "python",
   "pygments_lexer": "ipython3",
   "version": "3.10.0"
  },
  "orig_nbformat": 4,
  "vscode": {
   "interpreter": {
    "hash": "300b4819318f1a0d5b71a4b7a0d1f034f661a71c4c3785c70c6e7bc3614c89e0"
   }
  }
 },
 "nbformat": 4,
 "nbformat_minor": 2
}
